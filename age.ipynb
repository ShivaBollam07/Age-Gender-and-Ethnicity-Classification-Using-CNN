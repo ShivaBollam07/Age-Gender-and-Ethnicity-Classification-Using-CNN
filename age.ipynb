{
 "cells": [
  {
   "cell_type": "code",
   "execution_count": 1,
   "metadata": {},
   "outputs": [],
   "source": [
    "import numpy as np\n",
    "import pandas as pd\n",
    "import matplotlib.pyplot as plt\n",
    "import seaborn as sns"
   ]
  },
  {
   "cell_type": "code",
   "execution_count": 2,
   "metadata": {},
   "outputs": [
    {
     "data": {
      "text/html": [
       "<div>\n",
       "<style scoped>\n",
       "    .dataframe tbody tr th:only-of-type {\n",
       "        vertical-align: middle;\n",
       "    }\n",
       "\n",
       "    .dataframe tbody tr th {\n",
       "        vertical-align: top;\n",
       "    }\n",
       "\n",
       "    .dataframe thead th {\n",
       "        text-align: right;\n",
       "    }\n",
       "</style>\n",
       "<table border=\"1\" class=\"dataframe\">\n",
       "  <thead>\n",
       "    <tr style=\"text-align: right;\">\n",
       "      <th></th>\n",
       "      <th>age</th>\n",
       "      <th>ethnicity</th>\n",
       "      <th>gender</th>\n",
       "      <th>img_name</th>\n",
       "      <th>pixels</th>\n",
       "    </tr>\n",
       "  </thead>\n",
       "  <tbody>\n",
       "    <tr>\n",
       "      <th>0</th>\n",
       "      <td>1</td>\n",
       "      <td>2</td>\n",
       "      <td>0</td>\n",
       "      <td>20161219203650636.jpg.chip.jpg</td>\n",
       "      <td>129 128 128 126 127 130 133 135 139 142 145 14...</td>\n",
       "    </tr>\n",
       "    <tr>\n",
       "      <th>1</th>\n",
       "      <td>1</td>\n",
       "      <td>2</td>\n",
       "      <td>0</td>\n",
       "      <td>20161219222752047.jpg.chip.jpg</td>\n",
       "      <td>164 74 111 168 169 171 175 182 184 188 193 199...</td>\n",
       "    </tr>\n",
       "    <tr>\n",
       "      <th>2</th>\n",
       "      <td>1</td>\n",
       "      <td>2</td>\n",
       "      <td>0</td>\n",
       "      <td>20161219222832191.jpg.chip.jpg</td>\n",
       "      <td>67 70 71 70 69 67 70 79 90 103 116 132 145 155...</td>\n",
       "    </tr>\n",
       "    <tr>\n",
       "      <th>3</th>\n",
       "      <td>1</td>\n",
       "      <td>2</td>\n",
       "      <td>0</td>\n",
       "      <td>20161220144911423.jpg.chip.jpg</td>\n",
       "      <td>193 197 198 200 199 200 202 203 204 205 208 21...</td>\n",
       "    </tr>\n",
       "    <tr>\n",
       "      <th>4</th>\n",
       "      <td>1</td>\n",
       "      <td>2</td>\n",
       "      <td>0</td>\n",
       "      <td>20161220144914327.jpg.chip.jpg</td>\n",
       "      <td>202 205 209 210 209 209 210 211 212 214 218 21...</td>\n",
       "    </tr>\n",
       "  </tbody>\n",
       "</table>\n",
       "</div>"
      ],
      "text/plain": [
       "   age  ethnicity  gender                        img_name  \\\n",
       "0    1          2       0  20161219203650636.jpg.chip.jpg   \n",
       "1    1          2       0  20161219222752047.jpg.chip.jpg   \n",
       "2    1          2       0  20161219222832191.jpg.chip.jpg   \n",
       "3    1          2       0  20161220144911423.jpg.chip.jpg   \n",
       "4    1          2       0  20161220144914327.jpg.chip.jpg   \n",
       "\n",
       "                                              pixels  \n",
       "0  129 128 128 126 127 130 133 135 139 142 145 14...  \n",
       "1  164 74 111 168 169 171 175 182 184 188 193 199...  \n",
       "2  67 70 71 70 69 67 70 79 90 103 116 132 145 155...  \n",
       "3  193 197 198 200 199 200 202 203 204 205 208 21...  \n",
       "4  202 205 209 210 209 209 210 211 212 214 218 21...  "
      ]
     },
     "execution_count": 2,
     "metadata": {},
     "output_type": "execute_result"
    }
   ],
   "source": [
    "data = pd.read_csv(\"age_gender.csv\")\n",
    "data.head()"
   ]
  },
  {
   "cell_type": "code",
   "execution_count": 3,
   "metadata": {},
   "outputs": [
    {
     "data": {
      "text/plain": [
       "0        0\n",
       "1        0\n",
       "2        0\n",
       "3        0\n",
       "4        0\n",
       "        ..\n",
       "23700    1\n",
       "23701    1\n",
       "23702    1\n",
       "23703    1\n",
       "23704    1\n",
       "Name: gender, Length: 23705, dtype: int64"
      ]
     },
     "execution_count": 3,
     "metadata": {},
     "output_type": "execute_result"
    }
   ],
   "source": [
    "data[\"gender\"]"
   ]
  },
  {
   "cell_type": "code",
   "execution_count": 4,
   "metadata": {},
   "outputs": [
    {
     "data": {
      "text/html": [
       "<div>\n",
       "<style scoped>\n",
       "    .dataframe tbody tr th:only-of-type {\n",
       "        vertical-align: middle;\n",
       "    }\n",
       "\n",
       "    .dataframe tbody tr th {\n",
       "        vertical-align: top;\n",
       "    }\n",
       "\n",
       "    .dataframe thead th {\n",
       "        text-align: right;\n",
       "    }\n",
       "</style>\n",
       "<table border=\"1\" class=\"dataframe\">\n",
       "  <thead>\n",
       "    <tr style=\"text-align: right;\">\n",
       "      <th></th>\n",
       "      <th>age</th>\n",
       "      <th>ethnicity</th>\n",
       "      <th>gender</th>\n",
       "      <th>pixels</th>\n",
       "    </tr>\n",
       "  </thead>\n",
       "  <tbody>\n",
       "    <tr>\n",
       "      <th>0</th>\n",
       "      <td>1</td>\n",
       "      <td>2</td>\n",
       "      <td>0</td>\n",
       "      <td>129 128 128 126 127 130 133 135 139 142 145 14...</td>\n",
       "    </tr>\n",
       "    <tr>\n",
       "      <th>1</th>\n",
       "      <td>1</td>\n",
       "      <td>2</td>\n",
       "      <td>0</td>\n",
       "      <td>164 74 111 168 169 171 175 182 184 188 193 199...</td>\n",
       "    </tr>\n",
       "    <tr>\n",
       "      <th>2</th>\n",
       "      <td>1</td>\n",
       "      <td>2</td>\n",
       "      <td>0</td>\n",
       "      <td>67 70 71 70 69 67 70 79 90 103 116 132 145 155...</td>\n",
       "    </tr>\n",
       "    <tr>\n",
       "      <th>3</th>\n",
       "      <td>1</td>\n",
       "      <td>2</td>\n",
       "      <td>0</td>\n",
       "      <td>193 197 198 200 199 200 202 203 204 205 208 21...</td>\n",
       "    </tr>\n",
       "    <tr>\n",
       "      <th>4</th>\n",
       "      <td>1</td>\n",
       "      <td>2</td>\n",
       "      <td>0</td>\n",
       "      <td>202 205 209 210 209 209 210 211 212 214 218 21...</td>\n",
       "    </tr>\n",
       "  </tbody>\n",
       "</table>\n",
       "</div>"
      ],
      "text/plain": [
       "   age  ethnicity  gender                                             pixels\n",
       "0    1          2       0  129 128 128 126 127 130 133 135 139 142 145 14...\n",
       "1    1          2       0  164 74 111 168 169 171 175 182 184 188 193 199...\n",
       "2    1          2       0  67 70 71 70 69 67 70 79 90 103 116 132 145 155...\n",
       "3    1          2       0  193 197 198 200 199 200 202 203 204 205 208 21...\n",
       "4    1          2       0  202 205 209 210 209 209 210 211 212 214 218 21..."
      ]
     },
     "execution_count": 4,
     "metadata": {},
     "output_type": "execute_result"
    }
   ],
   "source": [
    "data2 = data.drop('img_name' , axis=1)\n",
    "data2.head()"
   ]
  },
  {
   "cell_type": "code",
   "execution_count": 5,
   "metadata": {},
   "outputs": [],
   "source": [
    "X = data[\"pixels\"]\n",
    "Y = data[\"age\"]"
   ]
  },
  {
   "cell_type": "code",
   "execution_count": 6,
   "metadata": {},
   "outputs": [
    {
     "data": {
      "text/plain": [
       "0    129 128 128 126 127 130 133 135 139 142 145 14...\n",
       "1    164 74 111 168 169 171 175 182 184 188 193 199...\n",
       "2    67 70 71 70 69 67 70 79 90 103 116 132 145 155...\n",
       "3    193 197 198 200 199 200 202 203 204 205 208 21...\n",
       "4    202 205 209 210 209 209 210 211 212 214 218 21...\n",
       "Name: pixels, dtype: object"
      ]
     },
     "execution_count": 6,
     "metadata": {},
     "output_type": "execute_result"
    }
   ],
   "source": [
    "X.head()"
   ]
  },
  {
   "cell_type": "code",
   "execution_count": 7,
   "metadata": {},
   "outputs": [
    {
     "data": {
      "text/plain": [
       "0    1\n",
       "1    1\n",
       "2    1\n",
       "3    1\n",
       "4    1\n",
       "Name: age, dtype: int64"
      ]
     },
     "execution_count": 7,
     "metadata": {},
     "output_type": "execute_result"
    }
   ],
   "source": [
    "Y.head()"
   ]
  },
  {
   "cell_type": "code",
   "execution_count": 8,
   "metadata": {},
   "outputs": [
    {
     "data": {
      "image/png": "[encoded data removed]",
      "text/plain": [
       "<Figure size 500x500 with 1 Axes>"
      ]
     },
     "metadata": {},
     "output_type": "display_data"
    }
   ],
   "source": [
    "plt.figure(figsize=(5,5))\n",
    "plt.hist(data['age'], bins=104, color='#007BA8')\n",
    "plt.xlabel('Age')\n",
    "plt.ylabel('No of people')\n",
    "plt.title('No of People with the same age')\n",
    "plt.show()"
   ]
  },
  {
   "cell_type": "code",
   "execution_count": 52,
   "metadata": {},
   "outputs": [
    {
     "data": {
      "application/vnd.plotly.v1+json": {
       "config": {
        "plotlyServerURL": "https://plot.ly"
       },
       "data": [
        {
         "hole": 0.4,
         "hoverinfo": "label+percent",
         "labels": [
          2,
          3,
          1,
          4,
          0
         ],
         "marker": {
          "colors": [
           "rgb(102, 197, 204)",
           "rgb(246, 207, 113)",
           "rgb(248, 156, 116)",
           "rgb(220, 176, 242)",
           "rgb(135, 197, 95)",
           "rgb(158, 185, 243)",
           "rgb(254, 136, 177)",
           "rgb(201, 219, 116)",
           "rgb(139, 224, 164)",
           "rgb(180, 151, 231)",
           "rgb(179, 179, 179)"
          ]
         },
         "textfont": {
          "size": 15
         },
         "textinfo": "value",
         "type": "pie",
         "values": [
          13599,
          3653,
          2601,
          1958,
          1894
         ]
        }
       ],
       "layout": {
        "font": {
         "size": 14
        },
        "legend": {
         "title": {
          "text": "Age Category"
         }
        },
        "showlegend": true,
        "template": {
         "data": {
          "bar": [
           {
            "error_x": {
             "color": "#2a3f5f"
            },
            "error_y": {
             "color": "#2a3f5f"
            },
            "marker": {
             "line": {
              "color": "#E5ECF6",
              "width": 0.5
             },
             "pattern": {
              "fillmode": "overlay",
              "size": 10,
              "solidity": 0.2
             }
            },
            "type": "bar"
           }
          ],
          "barpolar": [
           {
            "marker": {
             "line": {
              "color": "#E5ECF6",
              "width": 0.5
             },
             "pattern": {
              "fillmode": "overlay",
              "size": 10,
              "solidity": 0.2
             }
            },
            "type": "barpolar"
           }
          ],
          "carpet": [
           {
            "aaxis": {
             "endlinecolor": "#2a3f5f",
             "gridcolor": "white",
             "linecolor": "white",
             "minorgridcolor": "white",
             "startlinecolor": "#2a3f5f"
            },
            "baxis": {
             "endlinecolor": "#2a3f5f",
             "gridcolor": "white",
             "linecolor": "white",
             "minorgridcolor": "white",
             "startlinecolor": "#2a3f5f"
            },
            "type": "carpet"
           }
          ],
          "choropleth": [
           {
            "colorbar": {
             "outlinewidth": 0,
             "ticks": ""
            },
            "type": "choropleth"
           }
          ],
          "contour": [
           {
            "colorbar": {
             "outlinewidth": 0,
             "ticks": ""
            },
            "colorscale": [
             [
              0,
              "#0d0887"
             ],
             [
              0.1111111111111111,
              "#46039f"
             ],
             [
              0.2222222222222222,
              "#7201a8"
             ],
             [
              0.3333333333333333,
              "#9c179e"
             ],
             [
              0.4444444444444444,
              "#bd3786"
             ],
             [
              0.5555555555555556,
              "#d8576b"
             ],
             [
              0.6666666666666666,
              "#ed7953"
             ],
             [
              0.7777777777777778,
              "#fb9f3a"
             ],
             [
              0.8888888888888888,
              "#fdca26"
             ],
             [
              1,
              "#f0f921"
             ]
            ],
            "type": "contour"
           }
          ],
          "contourcarpet": [
           {
            "colorbar": {
             "outlinewidth": 0,
             "ticks": ""
            },
            "type": "contourcarpet"
           }
          ],
          "heatmap": [
           {
            "colorbar": {
             "outlinewidth": 0,
             "ticks": ""
            },
            "colorscale": [
             [
              0,
              "#0d0887"
             ],
             [
              0.1111111111111111,
              "#46039f"
             ],
             [
              0.2222222222222222,
              "#7201a8"
             ],
             [
              0.3333333333333333,
              "#9c179e"
             ],
             [
              0.4444444444444444,
              "#bd3786"
             ],
             [
              0.5555555555555556,
              "#d8576b"
             ],
             [
              0.6666666666666666,
              "#ed7953"
             ],
             [
              0.7777777777777778,
              "#fb9f3a"
             ],
             [
              0.8888888888888888,
              "#fdca26"
             ],
             [
              1,
              "#f0f921"
             ]
            ],
            "type": "heatmap"
           }
          ],
          "heatmapgl": [
           {
            "colorbar": {
             "outlinewidth": 0,
             "ticks": ""
            },
            "colorscale": [
             [
              0,
              "#0d0887"
             ],
             [
              0.1111111111111111,
              "#46039f"
             ],
             [
              0.2222222222222222,
              "#7201a8"
             ],
             [
              0.3333333333333333,
              "#9c179e"
             ],
             [
              0.4444444444444444,
              "#bd3786"
             ],
             [
              0.5555555555555556,
              "#d8576b"
             ],
             [
              0.6666666666666666,
              "#ed7953"
             ],
             [
              0.7777777777777778,
              "#fb9f3a"
             ],
             [
              0.8888888888888888,
              "#fdca26"
             ],
             [
              1,
              "#f0f921"
             ]
            ],
            "type": "heatmapgl"
           }
          ],
          "histogram": [
           {
            "marker": {
             "pattern": {
              "fillmode": "overlay",
              "size": 10,
              "solidity": 0.2
             }
            },
            "type": "histogram"
           }
          ],
          "histogram2d": [
           {
            "colorbar": {
             "outlinewidth": 0,
             "ticks": ""
            },
            "colorscale": [
             [
              0,
              "#0d0887"
             ],
             [
              0.1111111111111111,
              "#46039f"
             ],
             [
              0.2222222222222222,
              "#7201a8"
             ],
             [
              0.3333333333333333,
              "#9c179e"
             ],
             [
              0.4444444444444444,
              "#bd3786"
             ],
             [
              0.5555555555555556,
              "#d8576b"
             ],
             [
              0.6666666666666666,
              "#ed7953"
             ],
             [
              0.7777777777777778,
              "#fb9f3a"
             ],
             [
              0.8888888888888888,
              "#fdca26"
             ],
             [
              1,
              "#f0f921"
             ]
            ],
            "type": "histogram2d"
           }
          ],
          "histogram2dcontour": [
           {
            "colorbar": {
             "outlinewidth": 0,
             "ticks": ""
            },
            "colorscale": [
             [
              0,
              "#0d0887"
             ],
             [
              0.1111111111111111,
              "#46039f"
             ],
             [
              0.2222222222222222,
              "#7201a8"
             ],
             [
              0.3333333333333333,
              "#9c179e"
             ],
             [
              0.4444444444444444,
              "#bd3786"
             ],
             [
              0.5555555555555556,
              "#d8576b"
             ],
             [
              0.6666666666666666,
              "#ed7953"
             ],
             [
              0.7777777777777778,
              "#fb9f3a"
             ],
             [
              0.8888888888888888,
              "#fdca26"
             ],
             [
              1,
              "#f0f921"
             ]
            ],
            "type": "histogram2dcontour"
           }
          ],
          "mesh3d": [
           {
            "colorbar": {
             "outlinewidth": 0,
             "ticks": ""
            },
            "type": "mesh3d"
           }
          ],
          "parcoords": [
           {
            "line": {
             "colorbar": {
              "outlinewidth": 0,
              "ticks": ""
             }
            },
            "type": "parcoords"
           }
          ],
          "pie": [
           {
            "automargin": true,
            "type": "pie"
           }
          ],
          "scatter": [
           {
            "fillpattern": {
             "fillmode": "overlay",
             "size": 10,
             "solidity": 0.2
            },
            "type": "scatter"
           }
          ],
          "scatter3d": [
           {
            "line": {
             "colorbar": {
              "outlinewidth": 0,
              "ticks": ""
             }
            },
            "marker": {
             "colorbar": {
              "outlinewidth": 0,
              "ticks": ""
             }
            },
            "type": "scatter3d"
           }
          ],
          "scattercarpet": [
           {
            "marker": {
             "colorbar": {
              "outlinewidth": 0,
              "ticks": ""
             }
            },
            "type": "scattercarpet"
           }
          ],
          "scattergeo": [
           {
            "marker": {
             "colorbar": {
              "outlinewidth": 0,
              "ticks": ""
             }
            },
            "type": "scattergeo"
           }
          ],
          "scattergl": [
           {
            "marker": {
             "colorbar": {
              "outlinewidth": 0,
              "ticks": ""
             }
            },
            "type": "scattergl"
           }
          ],
          "scattermapbox": [
           {
            "marker": {
             "colorbar": {
              "outlinewidth": 0,
              "ticks": ""
             }
            },
            "type": "scattermapbox"
           }
          ],
          "scatterpolar": [
           {
            "marker": {
             "colorbar": {
              "outlinewidth": 0,
              "ticks": ""
             }
            },
            "type": "scatterpolar"
           }
          ],
          "scatterpolargl": [
           {
            "marker": {
             "colorbar": {
              "outlinewidth": 0,
              "ticks": ""
             }
            },
            "type": "scatterpolargl"
           }
          ],
          "scatterternary": [
           {
            "marker": {
             "colorbar": {
              "outlinewidth": 0,
              "ticks": ""
             }
            },
            "type": "scatterternary"
           }
          ],
          "surface": [
           {
            "colorbar": {
             "outlinewidth": 0,
             "ticks": ""
            },
            "colorscale": [
             [
              0,
              "#0d0887"
             ],
             [
              0.1111111111111111,
              "#46039f"
             ],
             [
              0.2222222222222222,
              "#7201a8"
             ],
             [
              0.3333333333333333,
              "#9c179e"
             ],
             [
              0.4444444444444444,
              "#bd3786"
             ],
             [
              0.5555555555555556,
              "#d8576b"
             ],
             [
              0.6666666666666666,
              "#ed7953"
             ],
             [
              0.7777777777777778,
              "#fb9f3a"
             ],
             [
              0.8888888888888888,
              "#fdca26"
             ],
             [
              1,
              "#f0f921"
             ]
            ],
            "type": "surface"
           }
          ],
          "table": [
           {
            "cells": {
             "fill": {
              "color": "#EBF0F8"
             },
             "line": {
              "color": "white"
             }
            },
            "header": {
             "fill": {
              "color": "#C8D4E3"
             },
             "line": {
              "color": "white"
             }
            },
            "type": "table"
           }
          ]
         },
         "layout": {
          "annotationdefaults": {
           "arrowcolor": "#2a3f5f",
           "arrowhead": 0,
           "arrowwidth": 1
          },
          "autotypenumbers": "strict",
          "coloraxis": {
           "colorbar": {
            "outlinewidth": 0,
            "ticks": ""
           }
          },
          "colorscale": {
           "diverging": [
            [
             0,
             "#8e0152"
            ],
            [
             0.1,
             "#c51b7d"
            ],
            [
             0.2,
             "#de77ae"
            ],
            [
             0.3,
             "#f1b6da"
            ],
            [
             0.4,
             "#fde0ef"
            ],
            [
             0.5,
             "#f7f7f7"
            ],
            [
             0.6,
             "#e6f5d0"
            ],
            [
             0.7,
             "#b8e186"
            ],
            [
             0.8,
             "#7fbc41"
            ],
            [
             0.9,
             "#4d9221"
            ],
            [
             1,
             "#276419"
            ]
           ],
           "sequential": [
            [
             0,
             "#0d0887"
            ],
            [
             0.1111111111111111,
             "#46039f"
            ],
            [
             0.2222222222222222,
             "#7201a8"
            ],
            [
             0.3333333333333333,
             "#9c179e"
            ],
            [
             0.4444444444444444,
             "#bd3786"
            ],
            [
             0.5555555555555556,
             "#d8576b"
            ],
            [
             0.6666666666666666,
             "#ed7953"
            ],
            [
             0.7777777777777778,
             "#fb9f3a"
            ],
            [
             0.8888888888888888,
             "#fdca26"
            ],
            [
             1,
             "#f0f921"
            ]
           ],
           "sequentialminus": [
            [
             0,
             "#0d0887"
            ],
            [
             0.1111111111111111,
             "#46039f"
            ],
            [
             0.2222222222222222,
             "#7201a8"
            ],
            [
             0.3333333333333333,
             "#9c179e"
            ],
            [
             0.4444444444444444,
             "#bd3786"
            ],
            [
             0.5555555555555556,
             "#d8576b"
            ],
            [
             0.6666666666666666,
             "#ed7953"
            ],
            [
             0.7777777777777778,
             "#fb9f3a"
            ],
            [
             0.8888888888888888,
             "#fdca26"
            ],
            [
             1,
             "#f0f921"
            ]
           ]
          },
          "colorway": [
           "#636efa",
           "#EF553B",
           "#00cc96",
           "#ab63fa",
           "#FFA15A",
           "#19d3f3",
           "#FF6692",
           "#B6E880",
           "#FF97FF",
           "#FECB52"
          ],
          "font": {
           "color": "#2a3f5f"
          },
          "geo": {
           "bgcolor": "white",
           "lakecolor": "white",
           "landcolor": "#E5ECF6",
           "showlakes": true,
           "showland": true,
           "subunitcolor": "white"
          },
          "hoverlabel": {
           "align": "left"
          },
          "hovermode": "closest",
          "mapbox": {
           "style": "light"
          },
          "paper_bgcolor": "white",
          "plot_bgcolor": "#E5ECF6",
          "polar": {
           "angularaxis": {
            "gridcolor": "white",
            "linecolor": "white",
            "ticks": ""
           },
           "bgcolor": "#E5ECF6",
           "radialaxis": {
            "gridcolor": "white",
            "linecolor": "white",
            "ticks": ""
           }
          },
          "scene": {
           "xaxis": {
            "backgroundcolor": "#E5ECF6",
            "gridcolor": "white",
            "gridwidth": 2,
            "linecolor": "white",
            "showbackground": true,
            "ticks": "",
            "zerolinecolor": "white"
           },
           "yaxis": {
            "backgroundcolor": "#E5ECF6",
            "gridcolor": "white",
            "gridwidth": 2,
            "linecolor": "white",
            "showbackground": true,
            "ticks": "",
            "zerolinecolor": "white"
           },
           "zaxis": {
            "backgroundcolor": "#E5ECF6",
            "gridcolor": "white",
            "gridwidth": 2,
            "linecolor": "white",
            "showbackground": true,
            "ticks": "",
            "zerolinecolor": "white"
           }
          },
          "shapedefaults": {
           "line": {
            "color": "#2a3f5f"
           }
          },
          "ternary": {
           "aaxis": {
            "gridcolor": "white",
            "linecolor": "white",
            "ticks": ""
           },
           "baxis": {
            "gridcolor": "white",
            "linecolor": "white",
            "ticks": ""
           },
           "bgcolor": "#E5ECF6",
           "caxis": {
            "gridcolor": "white",
            "linecolor": "white",
            "ticks": ""
           }
          },
          "title": {
           "x": 0.05
          },
          "xaxis": {
           "automargin": true,
           "gridcolor": "white",
           "linecolor": "white",
           "ticks": "",
           "title": {
            "standoff": 15
           },
           "zerolinecolor": "white",
           "zerolinewidth": 2
          },
          "yaxis": {
           "automargin": true,
           "gridcolor": "white",
           "linecolor": "white",
           "ticks": "",
           "title": {
            "standoff": 15
           },
           "zerolinecolor": "white",
           "zerolinewidth": 2
          }
         }
        },
        "title": {
         "text": "Percentage of Different age categories"
        }
       }
      }
     },
     "metadata": {},
     "output_type": "display_data"
    }
   ],
   "source": [
    "import plotly.graph_objects as go\n",
    "import plotly.express as px\n",
    "import pandas as pd\n",
    "\n",
    "data2[\"age_category\"] = pd.cut(data2[\"age\"], bins=[0, 3, 18, 45, 64, 116], labels=[0, 1, 2, 3, 4])\n",
    "age_counts = data2[\"age_category\"].value_counts()\n",
    "\n",
    "# Creating  a pie chart using Plotly\n",
    "fig = go.Figure(data=go.Pie(\n",
    "    labels=age_counts.index,\n",
    "    values=age_counts.values,\n",
    "    hole=0.4,\n",
    "    hoverinfo='label+percent',\n",
    "    textinfo='value',\n",
    "    textfont=dict(size=15),\n",
    "    marker=dict(colors=px.colors.qualitative.Pastel)\n",
    "))\n",
    "\n",
    "fig.update_layout(\n",
    "    title=\"Percentage of Different age categories\",\n",
    "    showlegend=True,\n",
    "    legend=dict(title=\"Age Category\"),\n",
    "    font=dict(size=14),\n",
    ")\n",
    "\n",
    "fig.show()"
   ]
  },
  {
   "cell_type": "code",
   "execution_count": 51,
   "metadata": {},
   "outputs": [
    {
     "data": {
      "application/vnd.plotly.v1+json": {
       "config": {
        "plotlyServerURL": "https://plot.ly"
       },
       "data": [
        {
         "marker": {
          "color": [
           "rgb(102, 197, 204)",
           "rgb(246, 207, 113)",
           "rgb(248, 156, 116)",
           "rgb(220, 176, 242)",
           "rgb(135, 197, 95)",
           "rgb(158, 185, 243)",
           "rgb(254, 136, 177)",
           "rgb(201, 219, 116)",
           "rgb(139, 224, 164)",
           "rgb(180, 151, 231)",
           "rgb(179, 179, 179)"
          ]
         },
         "type": "bar",
         "x": [
          2,
          3,
          1,
          4,
          0
         ],
         "y": [
          13599,
          3653,
          2601,
          1958,
          1894
         ]
        }
       ],
       "layout": {
        "font": {
         "size": 14
        },
        "template": {
         "data": {
          "bar": [
           {
            "error_x": {
             "color": "#2a3f5f"
            },
            "error_y": {
             "color": "#2a3f5f"
            },
            "marker": {
             "line": {
              "color": "#E5ECF6",
              "width": 0.5
             },
             "pattern": {
              "fillmode": "overlay",
              "size": 10,
              "solidity": 0.2
             }
            },
            "type": "bar"
           }
          ],
          "barpolar": [
           {
            "marker": {
             "line": {
              "color": "#E5ECF6",
              "width": 0.5
             },
             "pattern": {
              "fillmode": "overlay",
              "size": 10,
              "solidity": 0.2
             }
            },
            "type": "barpolar"
           }
          ],
          "carpet": [
           {
            "aaxis": {
             "endlinecolor": "#2a3f5f",
             "gridcolor": "white",
             "linecolor": "white",
             "minorgridcolor": "white",
             "startlinecolor": "#2a3f5f"
            },
            "baxis": {
             "endlinecolor": "#2a3f5f",
             "gridcolor": "white",
             "linecolor": "white",
             "minorgridcolor": "white",
             "startlinecolor": "#2a3f5f"
            },
            "type": "carpet"
           }
          ],
          "choropleth": [
           {
            "colorbar": {
             "outlinewidth": 0,
             "ticks": ""
            },
            "type": "choropleth"
           }
          ],
          "contour": [
           {
            "colorbar": {
             "outlinewidth": 0,
             "ticks": ""
            },
            "colorscale": [
             [
              0,
              "#0d0887"
             ],
             [
              0.1111111111111111,
              "#46039f"
             ],
             [
              0.2222222222222222,
              "#7201a8"
             ],
             [
              0.3333333333333333,
              "#9c179e"
             ],
             [
              0.4444444444444444,
              "#bd3786"
             ],
             [
              0.5555555555555556,
              "#d8576b"
             ],
             [
              0.6666666666666666,
              "#ed7953"
             ],
             [
              0.7777777777777778,
              "#fb9f3a"
             ],
             [
              0.8888888888888888,
              "#fdca26"
             ],
             [
              1,
              "#f0f921"
             ]
            ],
            "type": "contour"
           }
          ],
          "contourcarpet": [
           {
            "colorbar": {
             "outlinewidth": 0,
             "ticks": ""
            },
            "type": "contourcarpet"
           }
          ],
          "heatmap": [
           {
            "colorbar": {
             "outlinewidth": 0,
             "ticks": ""
            },
            "colorscale": [
             [
              0,
              "#0d0887"
             ],
             [
              0.1111111111111111,
              "#46039f"
             ],
             [
              0.2222222222222222,
              "#7201a8"
             ],
             [
              0.3333333333333333,
              "#9c179e"
             ],
             [
              0.4444444444444444,
              "#bd3786"
             ],
             [
              0.5555555555555556,
              "#d8576b"
             ],
             [
              0.6666666666666666,
              "#ed7953"
             ],
             [
              0.7777777777777778,
              "#fb9f3a"
             ],
             [
              0.8888888888888888,
              "#fdca26"
             ],
             [
              1,
              "#f0f921"
             ]
            ],
            "type": "heatmap"
           }
          ],
          "heatmapgl": [
           {
            "colorbar": {
             "outlinewidth": 0,
             "ticks": ""
            },
            "colorscale": [
             [
              0,
              "#0d0887"
             ],
             [
              0.1111111111111111,
              "#46039f"
             ],
             [
              0.2222222222222222,
              "#7201a8"
             ],
             [
              0.3333333333333333,
              "#9c179e"
             ],
             [
              0.4444444444444444,
              "#bd3786"
             ],
             [
              0.5555555555555556,
              "#d8576b"
             ],
             [
              0.6666666666666666,
              "#ed7953"
             ],
             [
              0.7777777777777778,
              "#fb9f3a"
             ],
             [
              0.8888888888888888,
              "#fdca26"
             ],
             [
              1,
              "#f0f921"
             ]
            ],
            "type": "heatmapgl"
           }
          ],
          "histogram": [
           {
            "marker": {
             "pattern": {
              "fillmode": "overlay",
              "size": 10,
              "solidity": 0.2
             }
            },
            "type": "histogram"
           }
          ],
          "histogram2d": [
           {
            "colorbar": {
             "outlinewidth": 0,
             "ticks": ""
            },
            "colorscale": [
             [
              0,
              "#0d0887"
             ],
             [
              0.1111111111111111,
              "#46039f"
             ],
             [
              0.2222222222222222,
              "#7201a8"
             ],
             [
              0.3333333333333333,
              "#9c179e"
             ],
             [
              0.4444444444444444,
              "#bd3786"
             ],
             [
              0.5555555555555556,
              "#d8576b"
             ],
             [
              0.6666666666666666,
              "#ed7953"
             ],
             [
              0.7777777777777778,
              "#fb9f3a"
             ],
             [
              0.8888888888888888,
              "#fdca26"
             ],
             [
              1,
              "#f0f921"
             ]
            ],
            "type": "histogram2d"
           }
          ],
          "histogram2dcontour": [
           {
            "colorbar": {
             "outlinewidth": 0,
             "ticks": ""
            },
            "colorscale": [
             [
              0,
              "#0d0887"
             ],
             [
              0.1111111111111111,
              "#46039f"
             ],
             [
              0.2222222222222222,
              "#7201a8"
             ],
             [
              0.3333333333333333,
              "#9c179e"
             ],
             [
              0.4444444444444444,
              "#bd3786"
             ],
             [
              0.5555555555555556,
              "#d8576b"
             ],
             [
              0.6666666666666666,
              "#ed7953"
             ],
             [
              0.7777777777777778,
              "#fb9f3a"
             ],
             [
              0.8888888888888888,
              "#fdca26"
             ],
             [
              1,
              "#f0f921"
             ]
            ],
            "type": "histogram2dcontour"
           }
          ],
          "mesh3d": [
           {
            "colorbar": {
             "outlinewidth": 0,
             "ticks": ""
            },
            "type": "mesh3d"
           }
          ],
          "parcoords": [
           {
            "line": {
             "colorbar": {
              "outlinewidth": 0,
              "ticks": ""
             }
            },
            "type": "parcoords"
           }
          ],
          "pie": [
           {
            "automargin": true,
            "type": "pie"
           }
          ],
          "scatter": [
           {
            "fillpattern": {
             "fillmode": "overlay",
             "size": 10,
             "solidity": 0.2
            },
            "type": "scatter"
           }
          ],
          "scatter3d": [
           {
            "line": {
             "colorbar": {
              "outlinewidth": 0,
              "ticks": ""
             }
            },
            "marker": {
             "colorbar": {
              "outlinewidth": 0,
              "ticks": ""
             }
            },
            "type": "scatter3d"
           }
          ],
          "scattercarpet": [
           {
            "marker": {
             "colorbar": {
              "outlinewidth": 0,
              "ticks": ""
             }
            },
            "type": "scattercarpet"
           }
          ],
          "scattergeo": [
           {
            "marker": {
             "colorbar": {
              "outlinewidth": 0,
              "ticks": ""
             }
            },
            "type": "scattergeo"
           }
          ],
          "scattergl": [
           {
            "marker": {
             "colorbar": {
              "outlinewidth": 0,
              "ticks": ""
             }
            },
            "type": "scattergl"
           }
          ],
          "scattermapbox": [
           {
            "marker": {
             "colorbar": {
              "outlinewidth": 0,
              "ticks": ""
             }
            },
            "type": "scattermapbox"
           }
          ],
          "scatterpolar": [
           {
            "marker": {
             "colorbar": {
              "outlinewidth": 0,
              "ticks": ""
             }
            },
            "type": "scatterpolar"
           }
          ],
          "scatterpolargl": [
           {
            "marker": {
             "colorbar": {
              "outlinewidth": 0,
              "ticks": ""
             }
            },
            "type": "scatterpolargl"
           }
          ],
          "scatterternary": [
           {
            "marker": {
             "colorbar": {
              "outlinewidth": 0,
              "ticks": ""
             }
            },
            "type": "scatterternary"
           }
          ],
          "surface": [
           {
            "colorbar": {
             "outlinewidth": 0,
             "ticks": ""
            },
            "colorscale": [
             [
              0,
              "#0d0887"
             ],
             [
              0.1111111111111111,
              "#46039f"
             ],
             [
              0.2222222222222222,
              "#7201a8"
             ],
             [
              0.3333333333333333,
              "#9c179e"
             ],
             [
              0.4444444444444444,
              "#bd3786"
             ],
             [
              0.5555555555555556,
              "#d8576b"
             ],
             [
              0.6666666666666666,
              "#ed7953"
             ],
             [
              0.7777777777777778,
              "#fb9f3a"
             ],
             [
              0.8888888888888888,
              "#fdca26"
             ],
             [
              1,
              "#f0f921"
             ]
            ],
            "type": "surface"
           }
          ],
          "table": [
           {
            "cells": {
             "fill": {
              "color": "#EBF0F8"
             },
             "line": {
              "color": "white"
             }
            },
            "header": {
             "fill": {
              "color": "#C8D4E3"
             },
             "line": {
              "color": "white"
             }
            },
            "type": "table"
           }
          ]
         },
         "layout": {
          "annotationdefaults": {
           "arrowcolor": "#2a3f5f",
           "arrowhead": 0,
           "arrowwidth": 1
          },
          "autotypenumbers": "strict",
          "coloraxis": {
           "colorbar": {
            "outlinewidth": 0,
            "ticks": ""
           }
          },
          "colorscale": {
           "diverging": [
            [
             0,
             "#8e0152"
            ],
            [
             0.1,
             "#c51b7d"
            ],
            [
             0.2,
             "#de77ae"
            ],
            [
             0.3,
             "#f1b6da"
            ],
            [
             0.4,
             "#fde0ef"
            ],
            [
             0.5,
             "#f7f7f7"
            ],
            [
             0.6,
             "#e6f5d0"
            ],
            [
             0.7,
             "#b8e186"
            ],
            [
             0.8,
             "#7fbc41"
            ],
            [
             0.9,
             "#4d9221"
            ],
            [
             1,
             "#276419"
            ]
           ],
           "sequential": [
            [
             0,
             "#0d0887"
            ],
            [
             0.1111111111111111,
             "#46039f"
            ],
            [
             0.2222222222222222,
             "#7201a8"
            ],
            [
             0.3333333333333333,
             "#9c179e"
            ],
            [
             0.4444444444444444,
             "#bd3786"
            ],
            [
             0.5555555555555556,
             "#d8576b"
            ],
            [
             0.6666666666666666,
             "#ed7953"
            ],
            [
             0.7777777777777778,
             "#fb9f3a"
            ],
            [
             0.8888888888888888,
             "#fdca26"
            ],
            [
             1,
             "#f0f921"
            ]
           ],
           "sequentialminus": [
            [
             0,
             "#0d0887"
            ],
            [
             0.1111111111111111,
             "#46039f"
            ],
            [
             0.2222222222222222,
             "#7201a8"
            ],
            [
             0.3333333333333333,
             "#9c179e"
            ],
            [
             0.4444444444444444,
             "#bd3786"
            ],
            [
             0.5555555555555556,
             "#d8576b"
            ],
            [
             0.6666666666666666,
             "#ed7953"
            ],
            [
             0.7777777777777778,
             "#fb9f3a"
            ],
            [
             0.8888888888888888,
             "#fdca26"
            ],
            [
             1,
             "#f0f921"
            ]
           ]
          },
          "colorway": [
           "#636efa",
           "#EF553B",
           "#00cc96",
           "#ab63fa",
           "#FFA15A",
           "#19d3f3",
           "#FF6692",
           "#B6E880",
           "#FF97FF",
           "#FECB52"
          ],
          "font": {
           "color": "#2a3f5f"
          },
          "geo": {
           "bgcolor": "white",
           "lakecolor": "white",
           "landcolor": "#E5ECF6",
           "showlakes": true,
           "showland": true,
           "subunitcolor": "white"
          },
          "hoverlabel": {
           "align": "left"
          },
          "hovermode": "closest",
          "mapbox": {
           "style": "light"
          },
          "paper_bgcolor": "white",
          "plot_bgcolor": "#E5ECF6",
          "polar": {
           "angularaxis": {
            "gridcolor": "white",
            "linecolor": "white",
            "ticks": ""
           },
           "bgcolor": "#E5ECF6",
           "radialaxis": {
            "gridcolor": "white",
            "linecolor": "white",
            "ticks": ""
           }
          },
          "scene": {
           "xaxis": {
            "backgroundcolor": "#E5ECF6",
            "gridcolor": "white",
            "gridwidth": 2,
            "linecolor": "white",
            "showbackground": true,
            "ticks": "",
            "zerolinecolor": "white"
           },
           "yaxis": {
            "backgroundcolor": "#E5ECF6",
            "gridcolor": "white",
            "gridwidth": 2,
            "linecolor": "white",
            "showbackground": true,
            "ticks": "",
            "zerolinecolor": "white"
           },
           "zaxis": {
            "backgroundcolor": "#E5ECF6",
            "gridcolor": "white",
            "gridwidth": 2,
            "linecolor": "white",
            "showbackground": true,
            "ticks": "",
            "zerolinecolor": "white"
           }
          },
          "shapedefaults": {
           "line": {
            "color": "#2a3f5f"
           }
          },
          "ternary": {
           "aaxis": {
            "gridcolor": "white",
            "linecolor": "white",
            "ticks": ""
           },
           "baxis": {
            "gridcolor": "white",
            "linecolor": "white",
            "ticks": ""
           },
           "bgcolor": "#E5ECF6",
           "caxis": {
            "gridcolor": "white",
            "linecolor": "white",
            "ticks": ""
           }
          },
          "title": {
           "x": 0.05
          },
          "xaxis": {
           "automargin": true,
           "gridcolor": "white",
           "linecolor": "white",
           "ticks": "",
           "title": {
            "standoff": 15
           },
           "zerolinecolor": "white",
           "zerolinewidth": 2
          },
          "yaxis": {
           "automargin": true,
           "gridcolor": "white",
           "linecolor": "white",
           "ticks": "",
           "title": {
            "standoff": 15
           },
           "zerolinecolor": "white",
           "zerolinewidth": 2
          }
         }
        },
        "title": {
         "text": "Mo of people in different age Categories"
        },
        "xaxis": {
         "title": {
          "text": "Age Category"
         }
        },
        "yaxis": {
         "title": {
          "text": "Count"
         }
        }
       }
      }
     },
     "metadata": {},
     "output_type": "display_data"
    }
   ],
   "source": [
    "data2[\"age_category\"] = pd.cut(data2[\"age\"], bins=[0, 3, 18, 45, 64, 116], labels=[0, 1, 2, 3, 4])\n",
    "age_counts = data2[\"age_category\"].value_counts()\n",
    "\n",
    "# To provide  set of color palettes  mate\n",
    "colors = px.colors.qualitative.Pastel\n",
    "\n",
    "\n",
    "fig = go.Figure(data=go.Bar(\n",
    "    x=age_counts.index,\n",
    "    y=age_counts.values,\n",
    "    marker=dict(color=colors)\n",
    "))\n",
    "\n",
    "\n",
    "fig.update_layout(\n",
    "    title=\"No of people in different age Categories\",\n",
    "    xaxis=dict(title=\"Age Category\"),\n",
    "    yaxis=dict(title=\"Count\"),\n",
    "    font=dict(size=14),\n",
    ")\n",
    "\n",
    "# To Show the fianl plot mate\n",
    "fig.show()"
   ]
  },
  {
   "cell_type": "code",
   "execution_count": 11,
   "metadata": {},
   "outputs": [
    {
     "name": "stdout",
     "output_type": "stream",
     "text": [
      "X shape:  (23705, 48, 48, 1)\n"
     ]
    }
   ],
   "source": [
    "import pandas as pd\n",
    "X = pd.Series(data['pixels'])\n",
    "X = X.apply(lambda x:x.split(' '))\n",
    "X = X.apply(lambda x: np.array(list(map(lambda z: int(z), x))))\n",
    "X = np.array(X)\n",
    "X = np.stack(np.array(X), axis=0)\n",
    "\n",
    "# reshaping data\n",
    "X = X.reshape(-1, 48, 48, 1)\n",
    "print(\"X shape: \", X.shape)"
   ]
  },
  {
   "cell_type": "code",
   "execution_count": 12,
   "metadata": {},
   "outputs": [
    {
     "name": "stdout",
     "output_type": "stream",
     "text": [
      "\n",
      "Before Dividing into classes : \n",
      "\n"
     ]
    },
    {
     "data": {
      "image/png": "[encoded data removed]",
      "text/plain": [
       "<Figure size 1600x1600 with 4 Axes>"
      ]
     },
     "metadata": {},
     "output_type": "display_data"
    },
    {
     "name": "stdout",
     "output_type": "stream",
     "text": [
      "\n",
      "      Age      vs   Age Category\n",
      "\n",
      "     0 to 3    =          0 \n",
      "    04 to 18   =          1 \n",
      "    19 to 45   =          2 \n",
      "    46 to 64   =          3 \n",
      "    65 to 116  =          4 \n",
      "\n",
      "\n",
      "After Dividing into classes : \n",
      "\n"
     ]
    },
    {
     "data": {
      "image/png": "[encoded data removed]",
      "text/plain": [
       "<Figure size 1600x1600 with 4 Axes>"
      ]
     },
     "metadata": {},
     "output_type": "display_data"
    }
   ],
   "source": [
    "import numpy as np\n",
    "import matplotlib.pyplot as plt\n",
    "\n",
    "random_indices = np.random.randint(0, 23705, 23704)\n",
    "print()\n",
    "\n",
    "print(\"Before Dividing into classes : \")\n",
    "print()\n",
    "\n",
    "plt.figure(figsize=(16, 16))\n",
    "for i, a in zip(random_indices, range(1, 5)):\n",
    "    plt.subplot(5, 5, a)\n",
    "    plt.xticks([])\n",
    "    plt.yticks([])\n",
    "    plt.grid(False)\n",
    "    plt.imshow(X[i])\n",
    "    plt.xlabel(\"Age: \" + str(Y.iloc[i]))\n",
    "\n",
    "plt.show()\n",
    "\n",
    "Y = data2[\"age\"]\n",
    "Y1 = data2[\"age_category\"]\n",
    "\n",
    "\n",
    "print()\n",
    "\n",
    "print(\"      Age      vs   Age Category\")\n",
    "print()\n",
    "print(\"     0 to 3    =          0 \")\n",
    "print(\"    04 to 18   =          1 \")\n",
    "print(\"    19 to 45   =          2 \")\n",
    "print(\"    46 to 64   =          3 \")\n",
    "print(\"    65 to 116  =          4 \")\n",
    "print()\n",
    "\n",
    "\n",
    "print()\n",
    "print(\"After Dividing into classes : \")\n",
    "print()\n",
    "\n",
    "plt.figure(figsize=(16, 16))\n",
    "for i, a in zip(random_indices, range(1, 5)):\n",
    "    plt.subplot(5, 5, a)\n",
    "    plt.xticks([])\n",
    "    plt.yticks([])\n",
    "    plt.grid(False)\n",
    "    plt.imshow(X[i])\n",
    "    plt.xlabel(\"Age Category: \" + str(Y1.iloc[i]))\n",
    "\n",
    "plt.show()"
   ]
  },
  {
   "cell_type": "code",
   "execution_count": 13,
   "metadata": {},
   "outputs": [
    {
     "name": "stdout",
     "output_type": "stream",
     "text": [
      "0         1\n",
      "1         1\n",
      "2         1\n",
      "3         1\n",
      "4         1\n",
      "         ..\n",
      "23700    99\n",
      "23701    99\n",
      "23702    99\n",
      "23703    99\n",
      "23704    99\n",
      "Name: age, Length: 23705, dtype: int64\n"
     ]
    }
   ],
   "source": [
    "print(Y)"
   ]
  },
  {
   "cell_type": "code",
   "execution_count": 14,
   "metadata": {},
   "outputs": [
    {
     "data": {
      "text/plain": [
       "(23705, 48, 48, 1)"
      ]
     },
     "execution_count": 14,
     "metadata": {},
     "output_type": "execute_result"
    }
   ],
   "source": [
    "X.shape"
   ]
  },
  {
   "cell_type": "code",
   "execution_count": 15,
   "metadata": {},
   "outputs": [],
   "source": [
    "def show_plot(x,index):\n",
    "    plt.figure(figsize= (3,3))\n",
    "    plt.imshow(x[index])"
   ]
  },
  {
   "cell_type": "code",
   "execution_count": 17,
   "metadata": {},
   "outputs": [
    {
     "data": {
      "image/png": "[encoded data removed]",
      "text/plain": [
       "<Figure size 300x300 with 1 Axes>"
      ]
     },
     "metadata": {},
     "output_type": "display_data"
    }
   ],
   "source": [
    "show_plot(X,11111)"
   ]
  },
  {
   "cell_type": "code",
   "execution_count": 19,
   "metadata": {},
   "outputs": [],
   "source": [
    "import tensorflow as tf\n",
    "from tensorflow.keras.models import Sequential\n",
    "from tensorflow.keras.layers import Dense,Conv2D,Flatten,MaxPooling2D"
   ]
  },
  {
   "cell_type": "code",
   "execution_count": 20,
   "metadata": {},
   "outputs": [
    {
     "data": {
      "text/plain": [
       "array([[[[129],\n",
       "         [128],\n",
       "         [128],\n",
       "         ...,\n",
       "         [118],\n",
       "         [ 99],\n",
       "         [ 53]],\n",
       "\n",
       "        [[130],\n",
       "         [129],\n",
       "         [128],\n",
       "         ...,\n",
       "         [117],\n",
       "         [ 98],\n",
       "         [ 52]],\n",
       "\n",
       "        [[131],\n",
       "         [129],\n",
       "         [130],\n",
       "         ...,\n",
       "         [114],\n",
       "         [ 97],\n",
       "         [ 50]],\n",
       "\n",
       "        ...,\n",
       "\n",
       "        [[121],\n",
       "         [138],\n",
       "         [147],\n",
       "         ...,\n",
       "         [151],\n",
       "         [150],\n",
       "         [148]],\n",
       "\n",
       "        [[117],\n",
       "         [137],\n",
       "         [146],\n",
       "         ...,\n",
       "         [149],\n",
       "         [148],\n",
       "         [148]],\n",
       "\n",
       "        [[115],\n",
       "         [135],\n",
       "         [142],\n",
       "         ...,\n",
       "         [146],\n",
       "         [146],\n",
       "         [146]]],\n",
       "\n",
       "\n",
       "       [[[164],\n",
       "         [ 74],\n",
       "         [111],\n",
       "         ...,\n",
       "         [111],\n",
       "         [111],\n",
       "         [104]],\n",
       "\n",
       "        [[179],\n",
       "         [ 70],\n",
       "         [128],\n",
       "         ...,\n",
       "         [112],\n",
       "         [113],\n",
       "         [108]],\n",
       "\n",
       "        [[176],\n",
       "         [ 71],\n",
       "         [146],\n",
       "         ...,\n",
       "         [112],\n",
       "         [112],\n",
       "         [109]],\n",
       "\n",
       "        ...,\n",
       "\n",
       "        [[192],\n",
       "         [196],\n",
       "         [235],\n",
       "         ...,\n",
       "         [111],\n",
       "         [124],\n",
       "         [112]],\n",
       "\n",
       "        [[230],\n",
       "         [226],\n",
       "         [233],\n",
       "         ...,\n",
       "         [198],\n",
       "         [197],\n",
       "         [180]],\n",
       "\n",
       "        [[238],\n",
       "         [239],\n",
       "         [233],\n",
       "         ...,\n",
       "         [182],\n",
       "         [170],\n",
       "         [148]]],\n",
       "\n",
       "\n",
       "       [[[ 67],\n",
       "         [ 70],\n",
       "         [ 71],\n",
       "         ...,\n",
       "         [197],\n",
       "         [194],\n",
       "         [192]],\n",
       "\n",
       "        [[ 65],\n",
       "         [ 66],\n",
       "         [ 69],\n",
       "         ...,\n",
       "         [197],\n",
       "         [194],\n",
       "         [192]],\n",
       "\n",
       "        [[ 61],\n",
       "         [ 63],\n",
       "         [ 69],\n",
       "         ...,\n",
       "         [197],\n",
       "         [194],\n",
       "         [190]],\n",
       "\n",
       "        ...,\n",
       "\n",
       "        [[159],\n",
       "         [157],\n",
       "         [159],\n",
       "         ...,\n",
       "         [114],\n",
       "         [105],\n",
       "         [105]],\n",
       "\n",
       "        [[102],\n",
       "         [114],\n",
       "         [110],\n",
       "         ...,\n",
       "         [114],\n",
       "         [110],\n",
       "         [107]],\n",
       "\n",
       "        [[ 98],\n",
       "         [ 97],\n",
       "         [ 95],\n",
       "         ...,\n",
       "         [112],\n",
       "         [111],\n",
       "         [108]]],\n",
       "\n",
       "\n",
       "       ...,\n",
       "\n",
       "\n",
       "       [[[ 59],\n",
       "         [ 50],\n",
       "         [ 37],\n",
       "         ...,\n",
       "         [119],\n",
       "         [113],\n",
       "         [ 98]],\n",
       "\n",
       "        [[ 56],\n",
       "         [ 48],\n",
       "         [ 44],\n",
       "         ...,\n",
       "         [111],\n",
       "         [115],\n",
       "         [ 97]],\n",
       "\n",
       "        [[ 40],\n",
       "         [ 32],\n",
       "         [ 26],\n",
       "         ...,\n",
       "         [108],\n",
       "         [117],\n",
       "         [101]],\n",
       "\n",
       "        ...,\n",
       "\n",
       "        [[ 35],\n",
       "         [ 55],\n",
       "         [106],\n",
       "         ...,\n",
       "         [ 93],\n",
       "         [ 61],\n",
       "         [ 65]],\n",
       "\n",
       "        [[ 41],\n",
       "         [ 40],\n",
       "         [ 71],\n",
       "         ...,\n",
       "         [104],\n",
       "         [ 66],\n",
       "         [ 71]],\n",
       "\n",
       "        [[ 47],\n",
       "         [ 35],\n",
       "         [ 45],\n",
       "         ...,\n",
       "         [ 98],\n",
       "         [ 78],\n",
       "         [ 78]]],\n",
       "\n",
       "\n",
       "       [[[ 45],\n",
       "         [108],\n",
       "         [120],\n",
       "         ...,\n",
       "         [ 31],\n",
       "         [ 36],\n",
       "         [ 53]],\n",
       "\n",
       "        [[ 73],\n",
       "         [ 94],\n",
       "         [140],\n",
       "         ...,\n",
       "         [ 29],\n",
       "         [ 30],\n",
       "         [ 45]],\n",
       "\n",
       "        [[ 88],\n",
       "         [111],\n",
       "         [160],\n",
       "         ...,\n",
       "         [ 28],\n",
       "         [ 12],\n",
       "         [ 33]],\n",
       "\n",
       "        ...,\n",
       "\n",
       "        [[  6],\n",
       "         [  2],\n",
       "         [ 10],\n",
       "         ...,\n",
       "         [  8],\n",
       "         [ 14],\n",
       "         [ 34]],\n",
       "\n",
       "        [[  2],\n",
       "         [  4],\n",
       "         [ 52],\n",
       "         ...,\n",
       "         [ 16],\n",
       "         [ 51],\n",
       "         [ 41]],\n",
       "\n",
       "        [[  1],\n",
       "         [ 36],\n",
       "         [ 70],\n",
       "         ...,\n",
       "         [ 32],\n",
       "         [ 35],\n",
       "         [ 35]]],\n",
       "\n",
       "\n",
       "       [[[156],\n",
       "         [161],\n",
       "         [160],\n",
       "         ...,\n",
       "         [149],\n",
       "         [143],\n",
       "         [146]],\n",
       "\n",
       "        [[153],\n",
       "         [145],\n",
       "         [164],\n",
       "         ...,\n",
       "         [147],\n",
       "         [138],\n",
       "         [132]],\n",
       "\n",
       "        [[148],\n",
       "         [145],\n",
       "         [159],\n",
       "         ...,\n",
       "         [149],\n",
       "         [140],\n",
       "         [142]],\n",
       "\n",
       "        ...,\n",
       "\n",
       "        [[204],\n",
       "         [219],\n",
       "         [222],\n",
       "         ...,\n",
       "         [189],\n",
       "         [184],\n",
       "         [172]],\n",
       "\n",
       "        [[213],\n",
       "         [210],\n",
       "         [223],\n",
       "         ...,\n",
       "         [195],\n",
       "         [191],\n",
       "         [168]],\n",
       "\n",
       "        [[212],\n",
       "         [218],\n",
       "         [222],\n",
       "         ...,\n",
       "         [190],\n",
       "         [184],\n",
       "         [174]]]])"
      ]
     },
     "execution_count": 20,
     "metadata": {},
     "output_type": "execute_result"
    }
   ],
   "source": [
    "X"
   ]
  },
  {
   "cell_type": "code",
   "execution_count": 21,
   "metadata": {},
   "outputs": [],
   "source": [
    "X = X /255"
   ]
  },
  {
   "cell_type": "code",
   "execution_count": 22,
   "metadata": {},
   "outputs": [
    {
     "data": {
      "text/plain": [
       "array([[[[0.50588235],\n",
       "         [0.50196078],\n",
       "         [0.50196078],\n",
       "         ...,\n",
       "         [0.4627451 ],\n",
       "         [0.38823529],\n",
       "         [0.20784314]],\n",
       "\n",
       "        [[0.50980392],\n",
       "         [0.50588235],\n",
       "         [0.50196078],\n",
       "         ...,\n",
       "         [0.45882353],\n",
       "         [0.38431373],\n",
       "         [0.20392157]],\n",
       "\n",
       "        [[0.51372549],\n",
       "         [0.50588235],\n",
       "         [0.50980392],\n",
       "         ...,\n",
       "         [0.44705882],\n",
       "         [0.38039216],\n",
       "         [0.19607843]],\n",
       "\n",
       "        ...,\n",
       "\n",
       "        [[0.4745098 ],\n",
       "         [0.54117647],\n",
       "         [0.57647059],\n",
       "         ...,\n",
       "         [0.59215686],\n",
       "         [0.58823529],\n",
       "         [0.58039216]],\n",
       "\n",
       "        [[0.45882353],\n",
       "         [0.5372549 ],\n",
       "         [0.57254902],\n",
       "         ...,\n",
       "         [0.58431373],\n",
       "         [0.58039216],\n",
       "         [0.58039216]],\n",
       "\n",
       "        [[0.45098039],\n",
       "         [0.52941176],\n",
       "         [0.55686275],\n",
       "         ...,\n",
       "         [0.57254902],\n",
       "         [0.57254902],\n",
       "         [0.57254902]]],\n",
       "\n",
       "\n",
       "       [[[0.64313725],\n",
       "         [0.29019608],\n",
       "         [0.43529412],\n",
       "         ...,\n",
       "         [0.43529412],\n",
       "         [0.43529412],\n",
       "         [0.40784314]],\n",
       "\n",
       "        [[0.70196078],\n",
       "         [0.2745098 ],\n",
       "         [0.50196078],\n",
       "         ...,\n",
       "         [0.43921569],\n",
       "         [0.44313725],\n",
       "         [0.42352941]],\n",
       "\n",
       "        [[0.69019608],\n",
       "         [0.27843137],\n",
       "         [0.57254902],\n",
       "         ...,\n",
       "         [0.43921569],\n",
       "         [0.43921569],\n",
       "         [0.42745098]],\n",
       "\n",
       "        ...,\n",
       "\n",
       "        [[0.75294118],\n",
       "         [0.76862745],\n",
       "         [0.92156863],\n",
       "         ...,\n",
       "         [0.43529412],\n",
       "         [0.48627451],\n",
       "         [0.43921569]],\n",
       "\n",
       "        [[0.90196078],\n",
       "         [0.88627451],\n",
       "         [0.91372549],\n",
       "         ...,\n",
       "         [0.77647059],\n",
       "         [0.77254902],\n",
       "         [0.70588235]],\n",
       "\n",
       "        [[0.93333333],\n",
       "         [0.9372549 ],\n",
       "         [0.91372549],\n",
       "         ...,\n",
       "         [0.71372549],\n",
       "         [0.66666667],\n",
       "         [0.58039216]]],\n",
       "\n",
       "\n",
       "       [[[0.2627451 ],\n",
       "         [0.2745098 ],\n",
       "         [0.27843137],\n",
       "         ...,\n",
       "         [0.77254902],\n",
       "         [0.76078431],\n",
       "         [0.75294118]],\n",
       "\n",
       "        [[0.25490196],\n",
       "         [0.25882353],\n",
       "         [0.27058824],\n",
       "         ...,\n",
       "         [0.77254902],\n",
       "         [0.76078431],\n",
       "         [0.75294118]],\n",
       "\n",
       "        [[0.23921569],\n",
       "         [0.24705882],\n",
       "         [0.27058824],\n",
       "         ...,\n",
       "         [0.77254902],\n",
       "         [0.76078431],\n",
       "         [0.74509804]],\n",
       "\n",
       "        ...,\n",
       "\n",
       "        [[0.62352941],\n",
       "         [0.61568627],\n",
       "         [0.62352941],\n",
       "         ...,\n",
       "         [0.44705882],\n",
       "         [0.41176471],\n",
       "         [0.41176471]],\n",
       "\n",
       "        [[0.4       ],\n",
       "         [0.44705882],\n",
       "         [0.43137255],\n",
       "         ...,\n",
       "         [0.44705882],\n",
       "         [0.43137255],\n",
       "         [0.41960784]],\n",
       "\n",
       "        [[0.38431373],\n",
       "         [0.38039216],\n",
       "         [0.37254902],\n",
       "         ...,\n",
       "         [0.43921569],\n",
       "         [0.43529412],\n",
       "         [0.42352941]]],\n",
       "\n",
       "\n",
       "       ...,\n",
       "\n",
       "\n",
       "       [[[0.23137255],\n",
       "         [0.19607843],\n",
       "         [0.14509804],\n",
       "         ...,\n",
       "         [0.46666667],\n",
       "         [0.44313725],\n",
       "         [0.38431373]],\n",
       "\n",
       "        [[0.21960784],\n",
       "         [0.18823529],\n",
       "         [0.17254902],\n",
       "         ...,\n",
       "         [0.43529412],\n",
       "         [0.45098039],\n",
       "         [0.38039216]],\n",
       "\n",
       "        [[0.15686275],\n",
       "         [0.1254902 ],\n",
       "         [0.10196078],\n",
       "         ...,\n",
       "         [0.42352941],\n",
       "         [0.45882353],\n",
       "         [0.39607843]],\n",
       "\n",
       "        ...,\n",
       "\n",
       "        [[0.1372549 ],\n",
       "         [0.21568627],\n",
       "         [0.41568627],\n",
       "         ...,\n",
       "         [0.36470588],\n",
       "         [0.23921569],\n",
       "         [0.25490196]],\n",
       "\n",
       "        [[0.16078431],\n",
       "         [0.15686275],\n",
       "         [0.27843137],\n",
       "         ...,\n",
       "         [0.40784314],\n",
       "         [0.25882353],\n",
       "         [0.27843137]],\n",
       "\n",
       "        [[0.18431373],\n",
       "         [0.1372549 ],\n",
       "         [0.17647059],\n",
       "         ...,\n",
       "         [0.38431373],\n",
       "         [0.30588235],\n",
       "         [0.30588235]]],\n",
       "\n",
       "\n",
       "       [[[0.17647059],\n",
       "         [0.42352941],\n",
       "         [0.47058824],\n",
       "         ...,\n",
       "         [0.12156863],\n",
       "         [0.14117647],\n",
       "         [0.20784314]],\n",
       "\n",
       "        [[0.28627451],\n",
       "         [0.36862745],\n",
       "         [0.54901961],\n",
       "         ...,\n",
       "         [0.11372549],\n",
       "         [0.11764706],\n",
       "         [0.17647059]],\n",
       "\n",
       "        [[0.34509804],\n",
       "         [0.43529412],\n",
       "         [0.62745098],\n",
       "         ...,\n",
       "         [0.10980392],\n",
       "         [0.04705882],\n",
       "         [0.12941176]],\n",
       "\n",
       "        ...,\n",
       "\n",
       "        [[0.02352941],\n",
       "         [0.00784314],\n",
       "         [0.03921569],\n",
       "         ...,\n",
       "         [0.03137255],\n",
       "         [0.05490196],\n",
       "         [0.13333333]],\n",
       "\n",
       "        [[0.00784314],\n",
       "         [0.01568627],\n",
       "         [0.20392157],\n",
       "         ...,\n",
       "         [0.0627451 ],\n",
       "         [0.2       ],\n",
       "         [0.16078431]],\n",
       "\n",
       "        [[0.00392157],\n",
       "         [0.14117647],\n",
       "         [0.2745098 ],\n",
       "         ...,\n",
       "         [0.1254902 ],\n",
       "         [0.1372549 ],\n",
       "         [0.1372549 ]]],\n",
       "\n",
       "\n",
       "       [[[0.61176471],\n",
       "         [0.63137255],\n",
       "         [0.62745098],\n",
       "         ...,\n",
       "         [0.58431373],\n",
       "         [0.56078431],\n",
       "         [0.57254902]],\n",
       "\n",
       "        [[0.6       ],\n",
       "         [0.56862745],\n",
       "         [0.64313725],\n",
       "         ...,\n",
       "         [0.57647059],\n",
       "         [0.54117647],\n",
       "         [0.51764706]],\n",
       "\n",
       "        [[0.58039216],\n",
       "         [0.56862745],\n",
       "         [0.62352941],\n",
       "         ...,\n",
       "         [0.58431373],\n",
       "         [0.54901961],\n",
       "         [0.55686275]],\n",
       "\n",
       "        ...,\n",
       "\n",
       "        [[0.8       ],\n",
       "         [0.85882353],\n",
       "         [0.87058824],\n",
       "         ...,\n",
       "         [0.74117647],\n",
       "         [0.72156863],\n",
       "         [0.6745098 ]],\n",
       "\n",
       "        [[0.83529412],\n",
       "         [0.82352941],\n",
       "         [0.8745098 ],\n",
       "         ...,\n",
       "         [0.76470588],\n",
       "         [0.74901961],\n",
       "         [0.65882353]],\n",
       "\n",
       "        [[0.83137255],\n",
       "         [0.85490196],\n",
       "         [0.87058824],\n",
       "         ...,\n",
       "         [0.74509804],\n",
       "         [0.72156863],\n",
       "         [0.68235294]]]])"
      ]
     },
     "execution_count": 22,
     "metadata": {},
     "output_type": "execute_result"
    }
   ],
   "source": [
    "X"
   ]
  },
  {
   "cell_type": "code",
   "execution_count": 23,
   "metadata": {},
   "outputs": [],
   "source": [
    "from sklearn.model_selection import train_test_split\n",
    "y = data2[\"age_category\"]\n",
    "X_train, X_test, Y_train, Y_test = train_test_split(X,y, test_size=0.3, random_state=42)"
   ]
  },
  {
   "cell_type": "code",
   "execution_count": 24,
   "metadata": {},
   "outputs": [
    {
     "name": "stdout",
     "output_type": "stream",
     "text": [
      "Shape of X_train:  (16593, 48, 48, 1)\n",
      "Shape of Y_train:  (16593,)\n",
      "Shape of X_test:  (7112, 48, 48, 1)\n",
      "Shape of Y_test:  (7112,)\n"
     ]
    }
   ],
   "source": [
    "print(\"Shape of X_train: \", X_train.shape)\n",
    "print(\"Shape of Y_train: \", Y_train.shape)\n",
    "print(\"Shape of X_test: \", X_test.shape)\n",
    "print(\"Shape of Y_test: \", Y_test.shape)"
   ]
  },
  {
   "cell_type": "code",
   "execution_count": 29,
   "metadata": {},
   "outputs": [
    {
     "data": {
      "text/html": [
       "<div>\n",
       "<style scoped>\n",
       "    .dataframe tbody tr th:only-of-type {\n",
       "        vertical-align: middle;\n",
       "    }\n",
       "\n",
       "    .dataframe tbody tr th {\n",
       "        vertical-align: top;\n",
       "    }\n",
       "\n",
       "    .dataframe thead th {\n",
       "        text-align: right;\n",
       "    }\n",
       "</style>\n",
       "<table border=\"1\" class=\"dataframe\">\n",
       "  <thead>\n",
       "    <tr style=\"text-align: right;\">\n",
       "      <th></th>\n",
       "      <th>age</th>\n",
       "      <th>ethnicity</th>\n",
       "      <th>gender</th>\n",
       "      <th>pixels</th>\n",
       "      <th>age_category</th>\n",
       "    </tr>\n",
       "  </thead>\n",
       "  <tbody>\n",
       "    <tr>\n",
       "      <th>0</th>\n",
       "      <td>1</td>\n",
       "      <td>2</td>\n",
       "      <td>0</td>\n",
       "      <td>129 128 128 126 127 130 133 135 139 142 145 14...</td>\n",
       "      <td>0</td>\n",
       "    </tr>\n",
       "    <tr>\n",
       "      <th>1</th>\n",
       "      <td>1</td>\n",
       "      <td>2</td>\n",
       "      <td>0</td>\n",
       "      <td>164 74 111 168 169 171 175 182 184 188 193 199...</td>\n",
       "      <td>0</td>\n",
       "    </tr>\n",
       "    <tr>\n",
       "      <th>2</th>\n",
       "      <td>1</td>\n",
       "      <td>2</td>\n",
       "      <td>0</td>\n",
       "      <td>67 70 71 70 69 67 70 79 90 103 116 132 145 155...</td>\n",
       "      <td>0</td>\n",
       "    </tr>\n",
       "    <tr>\n",
       "      <th>3</th>\n",
       "      <td>1</td>\n",
       "      <td>2</td>\n",
       "      <td>0</td>\n",
       "      <td>193 197 198 200 199 200 202 203 204 205 208 21...</td>\n",
       "      <td>0</td>\n",
       "    </tr>\n",
       "    <tr>\n",
       "      <th>4</th>\n",
       "      <td>1</td>\n",
       "      <td>2</td>\n",
       "      <td>0</td>\n",
       "      <td>202 205 209 210 209 209 210 211 212 214 218 21...</td>\n",
       "      <td>0</td>\n",
       "    </tr>\n",
       "    <tr>\n",
       "      <th>...</th>\n",
       "      <td>...</td>\n",
       "      <td>...</td>\n",
       "      <td>...</td>\n",
       "      <td>...</td>\n",
       "      <td>...</td>\n",
       "    </tr>\n",
       "    <tr>\n",
       "      <th>23700</th>\n",
       "      <td>99</td>\n",
       "      <td>0</td>\n",
       "      <td>1</td>\n",
       "      <td>127 100 94 81 77 77 74 99 102 98 128 145 160 1...</td>\n",
       "      <td>4</td>\n",
       "    </tr>\n",
       "    <tr>\n",
       "      <th>23701</th>\n",
       "      <td>99</td>\n",
       "      <td>1</td>\n",
       "      <td>1</td>\n",
       "      <td>23 28 32 35 42 47 68 85 98 103 113 117 130 129...</td>\n",
       "      <td>4</td>\n",
       "    </tr>\n",
       "    <tr>\n",
       "      <th>23702</th>\n",
       "      <td>99</td>\n",
       "      <td>2</td>\n",
       "      <td>1</td>\n",
       "      <td>59 50 37 40 34 19 30 101 156 170 177 184 187 1...</td>\n",
       "      <td>4</td>\n",
       "    </tr>\n",
       "    <tr>\n",
       "      <th>23703</th>\n",
       "      <td>99</td>\n",
       "      <td>2</td>\n",
       "      <td>1</td>\n",
       "      <td>45 108 120 156 206 197 140 180 191 199 204 207...</td>\n",
       "      <td>4</td>\n",
       "    </tr>\n",
       "    <tr>\n",
       "      <th>23704</th>\n",
       "      <td>99</td>\n",
       "      <td>0</td>\n",
       "      <td>1</td>\n",
       "      <td>156 161 160 165 170 173 166 177 183 191 187 18...</td>\n",
       "      <td>4</td>\n",
       "    </tr>\n",
       "  </tbody>\n",
       "</table>\n",
       "<p>23705 rows × 5 columns</p>\n",
       "</div>"
      ],
      "text/plain": [
       "       age  ethnicity  gender  \\\n",
       "0        1          2       0   \n",
       "1        1          2       0   \n",
       "2        1          2       0   \n",
       "3        1          2       0   \n",
       "4        1          2       0   \n",
       "...    ...        ...     ...   \n",
       "23700   99          0       1   \n",
       "23701   99          1       1   \n",
       "23702   99          2       1   \n",
       "23703   99          2       1   \n",
       "23704   99          0       1   \n",
       "\n",
       "                                                  pixels age_category  \n",
       "0      129 128 128 126 127 130 133 135 139 142 145 14...            0  \n",
       "1      164 74 111 168 169 171 175 182 184 188 193 199...            0  \n",
       "2      67 70 71 70 69 67 70 79 90 103 116 132 145 155...            0  \n",
       "3      193 197 198 200 199 200 202 203 204 205 208 21...            0  \n",
       "4      202 205 209 210 209 209 210 211 212 214 218 21...            0  \n",
       "...                                                  ...          ...  \n",
       "23700  127 100 94 81 77 77 74 99 102 98 128 145 160 1...            4  \n",
       "23701  23 28 32 35 42 47 68 85 98 103 113 117 130 129...            4  \n",
       "23702  59 50 37 40 34 19 30 101 156 170 177 184 187 1...            4  \n",
       "23703  45 108 120 156 206 197 140 180 191 199 204 207...            4  \n",
       "23704  156 161 160 165 170 173 166 177 183 191 187 18...            4  \n",
       "\n",
       "[23705 rows x 5 columns]"
      ]
     },
     "execution_count": 29,
     "metadata": {},
     "output_type": "execute_result"
    }
   ],
   "source": [
    "data2"
   ]
  },
  {
   "cell_type": "code",
   "execution_count": null,
   "metadata": {},
   "outputs": [],
   "source": [
    "pip install tensorflow"
   ]
  },
  {
   "cell_type": "code",
   "execution_count": null,
   "metadata": {},
   "outputs": [],
   "source": [
    "import tensorflow as tf\n",
    "from tensorflow.keras import layers, models\n",
    "import matplotlib.pyplot as plt\n",
    "\n",
    "# Define your model\n",
    "model = models.Sequential()\n",
    "model.add(layers.Conv2D(32, (3, 3), activation='relu', input_shape=(48, 48, 1)))\n",
    "model.add(layers.MaxPooling2D((2, 2)))\n",
    "model.add(layers.Conv2D(64, (3, 3), activation='relu'))\n",
    "model.add(layers.MaxPooling2D((2, 2)))\n",
    "model.add(layers.Flatten())\n",
    "model.add(layers.Dense(64, activation='relu')) \n",
    "model.add(layers.Dense(5, activation='softmax'))\n",
    "\n",
    "model.compile(optimizer='adam',\n",
    "              loss='sparse_categorical_crossentropy',\n",
    "              metrics=['accuracy'])\n",
    "\n",
    "# Train your model and store the history\n",
    "history = model.fit(X_train, Y_train, epochs=25, batch_size=32)\n"
   ]
  },
  {
   "cell_type": "code",
   "execution_count": 44,
   "metadata": {},
   "outputs": [
    {
     "data": {
      "image/png": "[encoded data removed]",
      "text/plain": [
       "<Figure size 640x480 with 1 Axes>"
      ]
     },
     "metadata": {},
     "output_type": "display_data"
    }
   ],
   "source": [
    "plt.plot(history.history['loss'], color='blue', label='Loss')\n",
    "plt.plot(history.history['accuracy'], color='red', label='Accuracy')\n",
    "plt.title('Model Metrics')\n",
    "plt.xlabel('Epoch')\n",
    "plt.legend()\n",
    "plt.show()"
   ]
  },
  {
   "cell_type": "code",
   "execution_count": 43,
   "metadata": {},
   "outputs": [
    {
     "name": "stdout",
     "output_type": "stream",
     "text": [
      "223/223 [==============================] - 3s 12ms/step\n",
      "Accuracy: 76.4482564679415 %\n"
     ]
    }
   ],
   "source": [
    "predicted_labels = model.predict(X_test)\n",
    "\n",
    "predicted_labels = np.argmax(predicted_labels, axis=1)\n",
    "\n",
    "accuracy = np.mean(predicted_labels == Y_test)\n",
    "\n",
    "print('Accuracy:', accuracy*100,\"%\")"
   ]
  },
  {
   "cell_type": "code",
   "execution_count": 32,
   "metadata": {},
   "outputs": [
    {
     "data": {
      "text/plain": [
       "(7112, 48, 48, 1)"
      ]
     },
     "execution_count": 32,
     "metadata": {},
     "output_type": "execute_result"
    }
   ],
   "source": [
    "X_test.shape"
   ]
  },
  {
   "cell_type": "code",
   "execution_count": 33,
   "metadata": {},
   "outputs": [
    {
     "data": {
      "text/plain": [
       "(7112,)"
      ]
     },
     "execution_count": 33,
     "metadata": {},
     "output_type": "execute_result"
    }
   ],
   "source": [
    "Y_test.shape"
   ]
  },
  {
   "cell_type": "code",
   "execution_count": 34,
   "metadata": {},
   "outputs": [],
   "source": [
    "Y_test= Y_test.to_numpy()"
   ]
  },
  {
   "cell_type": "code",
   "execution_count": 49,
   "metadata": {},
   "outputs": [
    {
     "name": "stdout",
     "output_type": "stream",
     "text": [
      "1/1 [==============================] - 0s 26ms/step\n",
      "True Label: 2\n",
      "Predicted Label: 2\n",
      "prediction is correct\n"
     ]
    },
    {
     "data": {
      "image/png": "[encoded data removed]",
      "text/plain": [
       "<Figure size 300x300 with 1 Axes>"
      ]
     },
     "metadata": {},
     "output_type": "display_data"
    }
   ],
   "source": [
    "import numpy as np\n",
    "\n",
    "random_index = np.random.randint(0, len(X_test)) \n",
    "\n",
    "test_image = X_test[random_index]\n",
    "\n",
    "true_label = Y_test[random_index]\n",
    "\n",
    "test_image = np.expand_dims(test_image, axis=0)\n",
    "\n",
    "prediction = model.predict(test_image)\n",
    "\n",
    "predicted_label = np.argmax(prediction)\n",
    "\n",
    "print('True Label:', true_label)\n",
    "\n",
    "show_plot(X_test,random_index)\n",
    "\n",
    "print('Predicted Label:', predicted_label)\n",
    "\n",
    "if(true_label == predicted_label):\n",
    "\n",
    "    print(\"prediction is correct\")\n",
    "\n",
    "else:\n",
    "    \n",
    "    print(\"prediction is wrong\")"
   ]
  },
  {
   "cell_type": "code",
   "execution_count": 36,
   "metadata": {},
   "outputs": [
    {
     "name": "stdout",
     "output_type": "stream",
     "text": [
      "223/223 [==============================] - 2s 10ms/step\n"
     ]
    },
    {
     "data": {
      "image/png": "[encoded data removed]",
      "text/plain": [
       "<Figure size 800x600 with 2 Axes>"
      ]
     },
     "metadata": {},
     "output_type": "display_data"
    }
   ],
   "source": [
    "\n",
    "import numpy as np\n",
    "import seaborn as sns\n",
    "import matplotlib.pyplot as plt\n",
    "from sklearn.metrics import confusion_matrix\n",
    "\n",
    "# Predicting on all samples in X_test\n",
    "predicted_labels = model.predict(X_test)\n",
    "predicted_labels = np.argmax(predicted_labels, axis=1)\n",
    "\n",
    "# Creating confusion matrix\n",
    "cm = confusion_matrix(Y_test, predicted_labels)\n",
    "\n",
    "plt.figure(figsize=(8, 6))\n",
    "sns.heatmap(cm, annot=True, fmt=\"d\", xticklabels=[0,1,2,3,4], yticklabels=[0, 1, 2, 3, 4])\n",
    "plt.xlabel('Predicted Labels')\n",
    "plt.ylabel('True Labels')\n",
    "plt.title('Confusion Matrix')\n",
    "plt.show()"
   ]
  }
 ],
 "metadata": {
  "kernelspec": {
   "display_name": "base",
   "language": "python",
   "name": "python3"
  },
  "language_info": {
   "codemirror_mode": {
    "name": "ipython",
    "version": 3
   },
   "file_extension": ".py",
   "mimetype": "text/x-python",
   "name": "python",
   "nbconvert_exporter": "python",
   "pygments_lexer": "ipython3",
   "version": "3.10.9"
  },
  "orig_nbformat": 4
 },
 "nbformat": 4,
 "nbformat_minor": 2
}
